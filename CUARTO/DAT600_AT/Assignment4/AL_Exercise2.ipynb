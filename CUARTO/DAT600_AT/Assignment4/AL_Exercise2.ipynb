{
 "cells": [
  {
   "cell_type": "code",
   "execution_count": 1,
   "id": "1a746fe3",
   "metadata": {},
   "outputs": [],
   "source": [
    "import networkx as nx"
   ]
  },
  {
   "cell_type": "code",
   "execution_count": 2,
   "id": "87ba15a4",
   "metadata": {},
   "outputs": [],
   "source": [
    "G = nx.DiGraph()\n",
    "\n",
    "# List of edges with capacities (source, destination, capacity)\n",
    "edges = [\n",
    "    (\"S\", \"V1\", 14),\n",
    "    (\"S\", \"V2\", 25),\n",
    "    (\"V1\", \"V3\", 3),\n",
    "    (\"V1\", \"V4\", 21),\n",
    "    (\"V2\", \"V3\", 13),\n",
    "    (\"V2\", \"V5\", 7),\n",
    "    (\"V3\", \"V1\", 6),\n",
    "    (\"V3\", \"V5\", 15),\n",
    "    (\"V4\", \"V3\", 10),\n",
    "    (\"V4\", \"t\", 20),\n",
    "    (\"V5\", \"V4\", 5),\n",
    "    (\"V5\", \"t\", 10),\n",
    "]\n",
    "\n",
    "G.add_weighted_edges_from(edges, weight=\"capacity\")"
   ]
  },
  {
   "cell_type": "code",
   "execution_count": 3,
   "id": "e2ca2431",
   "metadata": {},
   "outputs": [],
   "source": [
    "# Compute the maximum flow from source 'S' to sink 't'\n",
    "flow_value, flow_dict = nx.maximum_flow(G, \"S\", \"t\", capacity=\"capacity\")"
   ]
  },
  {
   "cell_type": "code",
   "execution_count": 4,
   "id": "10a5b8d3",
   "metadata": {},
   "outputs": [],
   "source": [
    "# Compute the minimum cut that separates 'S' from 't'\n",
    "cut_value, (reachable, non_reachable) = nx.minimum_cut(G, \"S\", \"t\", capacity=\"capacity\")"
   ]
  },
  {
   "cell_type": "code",
   "execution_count": 5,
   "id": "137dd937",
   "metadata": {},
   "outputs": [
    {
     "name": "stdout",
     "output_type": "stream",
     "text": [
      "Maximum Flow: 30\n",
      "Minimum cut-off value: 30\n",
      "Cut (edges between sets):\n",
      "[('V4', 't'), ('V5', 't')]\n"
     ]
    }
   ],
   "source": [
    "print(f\"Maximum Flow: {flow_value}\")\n",
    "print(f\"Minimum cut-off value: {cut_value}\")\n",
    "print(\"Cut (edges between sets):\")\n",
    "cutset = [(u, v) for u in reachable for v in G[u] if v in non_reachable]\n",
    "print(cutset)"
   ]
  }
 ],
 "metadata": {
  "kernelspec": {
   "display_name": "Python 3",
   "language": "python",
   "name": "python3"
  },
  "language_info": {
   "codemirror_mode": {
    "name": "ipython",
    "version": 3
   },
   "file_extension": ".py",
   "mimetype": "text/x-python",
   "name": "python",
   "nbconvert_exporter": "python",
   "pygments_lexer": "ipython3",
   "version": "3.12.5"
  }
 },
 "nbformat": 4,
 "nbformat_minor": 5
}
