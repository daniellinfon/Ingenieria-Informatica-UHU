{
 "cells": [
  {
   "cell_type": "markdown",
   "metadata": {},
   "source": [
    "**Finding Champions**"
   ]
  },
  {
   "cell_type": "code",
   "execution_count": 1,
   "metadata": {},
   "outputs": [],
   "source": [
    "from collections import defaultdict, deque"
   ]
  },
  {
   "cell_type": "markdown",
   "metadata": {},
   "source": [
    "Graph Class"
   ]
  },
  {
   "cell_type": "code",
   "execution_count": 2,
   "metadata": {},
   "outputs": [],
   "source": [
    "class Graph:\n",
    "    def __init__(self, vertices):\n",
    "        self.graph = defaultdict(list)\n",
    "        self.V = vertices\n",
    "\n",
    "    def add_edge(self, u, v):\n",
    "        self.graph[u].append(v)\n",
    "\n",
    "    def detect_and_remove_cycles(self):\n",
    "        def find_cycle():\n",
    "            visited = set()\n",
    "            rec_stack = set()\n",
    "            back_edges = []\n",
    "\n",
    "            def dfs(node, parent):\n",
    "                visited.add(node)\n",
    "                rec_stack.add(node)\n",
    "                for neighbor in self.graph[node]:\n",
    "                    if neighbor not in visited:\n",
    "                        if dfs(neighbor, node):\n",
    "                            return True\n",
    "                    elif neighbor in rec_stack:\n",
    "                        back_edges.append((node, neighbor))\n",
    "                rec_stack.remove(node)\n",
    "                return False\n",
    "\n",
    "            for node in list(self.graph.keys()):\n",
    "                if node not in visited:\n",
    "                    dfs(node, None)\n",
    "            return back_edges\n",
    "\n",
    "        while True:\n",
    "            back_edges = find_cycle()\n",
    "            if not back_edges:\n",
    "                break  # No more cycles, stop\n",
    "            edge_to_remove = back_edges[0]  # Remove the first back edge found\n",
    "            self.graph[edge_to_remove[0]].remove(edge_to_remove[1])\n",
    "            print(f\"Removed edge: {edge_to_remove}\")\n",
    "\n",
    "        print(\"DAG after cycle removal:\")\n",
    "        for node in self.graph:\n",
    "            print(f\"{node} -> {self.graph[node]}\")"
   ]
  },
  {
   "cell_type": "markdown",
   "metadata": {},
   "source": [
    "Find Champions Function"
   ]
  },
  {
   "cell_type": "code",
   "execution_count": null,
   "metadata": {},
   "outputs": [],
   "source": [
    "def find_champions(graph):\n",
    "    def dfs(node, visited):\n",
    "        for neighbor in graph.graph[node]:  # Access neighbors \n",
    "            if neighbor not in visited:\n",
    "                visited.add(neighbor)\n",
    "                dfs(neighbor, visited)\n",
    "\n",
    "    champions = []\n",
    "    for node in graph.graph.keys():  # Iterate over the dictionary keys (nodes)\n",
    "        visited = set()\n",
    "        dfs(node, visited)\n",
    "        if len(visited) == len(graph.graph.keys()):  # Check if the node reaches all others\n",
    "            champions.append(node)\n",
    "    \n",
    "    return champions"
   ]
  },
  {
   "cell_type": "markdown",
   "metadata": {},
   "source": [
    "Graph Creation and Execution"
   ]
  },
  {
   "cell_type": "code",
   "execution_count": 6,
   "metadata": {},
   "outputs": [
    {
     "name": "stdout",
     "output_type": "stream",
     "text": [
      "Champion nodes: ['A', 'B', 'D']\n"
     ]
    }
   ],
   "source": [
    "# Create graph from Figure 3\n",
    "graph = Graph(7)  # 7 nodes\n",
    "\n",
    "edges = [\n",
    "    ('A', 'B'), ('B', 'A'), ('A', 'D'), ('D', 'B'), ('B', 'C'), ('D', 'C'),\n",
    "    ('C', 'E'), ('C', 'F'), ('F', 'E'), ('E', 'G'), ('G', 'F')   \n",
    "]\n",
    "\n",
    "for u, v in edges:\n",
    "    graph.add_edge(u, v)\n",
    "\n",
    "# Find Champions\n",
    "champions = find_champions(graph)\n",
    "print(\"Champion nodes:\", champions)"
   ]
  }
 ],
 "metadata": {
  "kernelspec": {
   "display_name": "Python 3",
   "language": "python",
   "name": "python3"
  },
  "language_info": {
   "codemirror_mode": {
    "name": "ipython",
    "version": 3
   },
   "file_extension": ".py",
   "mimetype": "text/x-python",
   "name": "python",
   "nbconvert_exporter": "python",
   "pygments_lexer": "ipython3",
   "version": "3.12.5"
  }
 },
 "nbformat": 4,
 "nbformat_minor": 2
}
