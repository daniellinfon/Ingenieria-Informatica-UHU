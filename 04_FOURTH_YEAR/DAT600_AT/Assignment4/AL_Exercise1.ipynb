{
 "cells": [
  {
   "cell_type": "code",
   "execution_count": null,
   "id": "798a6fec",
   "metadata": {},
   "outputs": [
    {
     "name": "stdout",
     "output_type": "stream",
     "text": [
      "Collecting pulp\n",
      "  Downloading pulp-3.1.1-py3-none-any.whl.metadata (1.3 kB)\n",
      "Downloading pulp-3.1.1-py3-none-any.whl (16.4 MB)\n",
      "   ---------------------------------------- 0.0/16.4 MB ? eta -:--:--\n",
      "   - -------------------------------------- 0.8/16.4 MB 4.2 MB/s eta 0:00:04\n",
      "   --- ------------------------------------ 1.3/16.4 MB 3.9 MB/s eta 0:00:04\n",
      "   ----- ---------------------------------- 2.4/16.4 MB 3.8 MB/s eta 0:00:04\n",
      "   ------- -------------------------------- 3.1/16.4 MB 3.7 MB/s eta 0:00:04\n",
      "   --------- ------------------------------ 3.9/16.4 MB 3.7 MB/s eta 0:00:04\n",
      "   ----------- ---------------------------- 4.7/16.4 MB 3.8 MB/s eta 0:00:04\n",
      "   ------------- -------------------------- 5.5/16.4 MB 3.7 MB/s eta 0:00:03\n",
      "   --------------- ------------------------ 6.3/16.4 MB 3.7 MB/s eta 0:00:03\n",
      "   ----------------- ---------------------- 7.3/16.4 MB 3.8 MB/s eta 0:00:03\n",
      "   -------------------- ------------------- 8.4/16.4 MB 3.9 MB/s eta 0:00:03\n",
      "   ----------------------- ---------------- 9.4/16.4 MB 4.0 MB/s eta 0:00:02\n",
      "   ------------------------- -------------- 10.5/16.4 MB 4.1 MB/s eta 0:00:02\n",
      "   --------------------------- ------------ 11.3/16.4 MB 4.1 MB/s eta 0:00:02\n",
      "   ------------------------------ --------- 12.3/16.4 MB 4.1 MB/s eta 0:00:01\n",
      "   -------------------------------- ------- 13.4/16.4 MB 4.2 MB/s eta 0:00:01\n",
      "   ---------------------------------- ----- 14.2/16.4 MB 4.1 MB/s eta 0:00:01\n",
      "   ------------------------------------ --- 14.9/16.4 MB 4.1 MB/s eta 0:00:01\n",
      "   -------------------------------------- - 15.7/16.4 MB 4.1 MB/s eta 0:00:01\n",
      "   ---------------------------------------  16.3/16.4 MB 4.1 MB/s eta 0:00:01\n",
      "   ---------------------------------------  16.3/16.4 MB 4.1 MB/s eta 0:00:01\n",
      "   ---------------------------------------- 16.4/16.4 MB 3.8 MB/s eta 0:00:00\n",
      "Installing collected packages: pulp\n",
      "Successfully installed pulp-3.1.1\n"
     ]
    },
    {
     "name": "stderr",
     "output_type": "stream",
     "text": [
      "\n",
      "[notice] A new release of pip is available: 24.3.1 -> 25.0.1\n",
      "[notice] To update, run: python.exe -m pip install --upgrade pip\n"
     ]
    }
   ],
   "source": [
    "%pip install pulp"
   ]
  },
  {
   "cell_type": "code",
   "execution_count": 7,
   "id": "bd384020",
   "metadata": {},
   "outputs": [],
   "source": [
    "from pulp import LpMaximize, LpProblem, LpVariable, value, LpInteger"
   ]
  },
  {
   "cell_type": "code",
   "execution_count": 8,
   "id": "38e306dd",
   "metadata": {},
   "outputs": [],
   "source": [
    "# Define the LP problem\n",
    "model = LpProblem(\"Maximize_Profit_Integer\", LpMaximize)\n",
    "\n",
    "# Decision variables\n",
    "x = LpVariable(\"Product_X\", lowBound=10, cat=LpInteger) # x >= 10\n",
    "y = LpVariable(\"Product_Y\", lowBound=0, cat=LpInteger) # y >= 0\n",
    "\n",
    "# Objective function\n",
    "model += 168.335 * x + 256.67 * y\n",
    "\n",
    "# Constraints\n",
    "model += 15 * x + 20 * y <= 2400 # Machine time\n",
    "model += 20 * x + 30 * y <= 2100 # Craftsman time"
   ]
  },
  {
   "cell_type": "code",
   "execution_count": 9,
   "id": "93a1c81c",
   "metadata": {},
   "outputs": [
    {
     "name": "stdout",
     "output_type": "stream",
     "text": [
      "Product X: 12.0\n",
      "Product Y: 62.0\n",
      "Maximum Profit: £17933.56\n"
     ]
    }
   ],
   "source": [
    "# Solve\n",
    "model.solve()\n",
    "\n",
    "# Results\n",
    "print(f\"Product X: {x.varValue}\")\n",
    "print(f\"Product Y: {y.varValue}\")\n",
    "print(f\"Maximum Profit: £{value(model.objective):.2f}\")"
   ]
  }
 ],
 "metadata": {
  "kernelspec": {
   "display_name": "Python 3",
   "language": "python",
   "name": "python3"
  },
  "language_info": {
   "codemirror_mode": {
    "name": "ipython",
    "version": 3
   },
   "file_extension": ".py",
   "mimetype": "text/x-python",
   "name": "python",
   "nbconvert_exporter": "python",
   "pygments_lexer": "ipython3",
   "version": "3.12.5"
  }
 },
 "nbformat": 4,
 "nbformat_minor": 5
}
