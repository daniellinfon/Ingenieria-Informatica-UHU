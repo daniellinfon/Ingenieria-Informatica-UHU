{
 "cells": [
  {
   "cell_type": "markdown",
   "metadata": {},
   "source": [
    "**DFS - BFS Implementation**"
   ]
  },
  {
   "cell_type": "code",
   "execution_count": 1,
   "metadata": {},
   "outputs": [],
   "source": [
    "from collections import defaultdict, deque"
   ]
  },
  {
   "cell_type": "markdown",
   "metadata": {},
   "source": [
    "DFS Class"
   ]
  },
  {
   "cell_type": "code",
   "execution_count": 2,
   "metadata": {},
   "outputs": [],
   "source": [
    "# Depth-First Search (DFS) function\n",
    "def dfs(graph, node, visited, start_finish, time):\n",
    "    if node in visited:\n",
    "        return time  # If node is already visited, return current time\n",
    "    \n",
    "    visited.add(node)  # Mark the node as visited\n",
    "    start_finish[node][\"start\"] = time[0]  # Record start time\n",
    "    time[0] += 1  # Increment time counter\n",
    "    \n",
    "    # Visit neighbors in alphabetical order\n",
    "    for neighbor in sorted(graph[node]):  \n",
    "        time = dfs(graph, neighbor, visited, start_finish, time)\n",
    "    \n",
    "    start_finish[node][\"finish\"] = time[0]  # Record finish time after exploring all neighbors\n",
    "    time[0] += 1  # Increment time counter\n",
    "    return time"
   ]
  },
  {
   "cell_type": "markdown",
   "metadata": {},
   "source": [
    "BFS Class"
   ]
  },
  {
   "cell_type": "code",
   "execution_count": 3,
   "metadata": {},
   "outputs": [],
   "source": [
    "# Breadth-First Search (BFS) function\n",
    "def bfs(graph, start):\n",
    "    queue = deque([start])  # Initialize queue with the starting node\n",
    "    visited = set([start])  # Mark the start node as visited\n",
    "    order = []  # List to store BFS order\n",
    "    \n",
    "    while queue:\n",
    "        node = queue.popleft()  # Dequeue a node\n",
    "        order.append(node)  # Add node to BFS order list\n",
    "        \n",
    "        # Visit neighbors in alphabetical order\n",
    "        for neighbor in sorted(graph[node]):  \n",
    "            if neighbor not in visited:\n",
    "                visited.add(neighbor)  # Mark neighbor as visited\n",
    "                queue.append(neighbor)  # Enqueue the neighbor\n",
    "    \n",
    "    return order  # Return the BFS traversal order\n"
   ]
  },
  {
   "cell_type": "markdown",
   "metadata": {},
   "source": [
    "Graph Creation and Execution"
   ]
  },
  {
   "cell_type": "code",
   "execution_count": 4,
   "metadata": {},
   "outputs": [
    {
     "name": "stdout",
     "output_type": "stream",
     "text": [
      "DFS Start/Finish Times:\n",
      "A: Start=1, Finish=20\n",
      "B: Start=2, Finish=19\n",
      "C: Start=3, Finish=16\n",
      "D: Start=17, Finish=18\n",
      "E: Start=4, Finish=15\n",
      "F: Start=5, Finish=14\n",
      "G: Start=6, Finish=7\n",
      "H: Start=8, Finish=11\n",
      "I: Start=9, Finish=10\n",
      "J: Start=12, Finish=13\n",
      "\n",
      "BFS Order: ['A', 'B', 'C', 'D', 'E', 'F', 'G', 'J', 'H', 'I']\n"
     ]
    }
   ],
   "source": [
    "# Graph Representation (Adjacency List)\n",
    "graph = {\n",
    "    'A': ['B'],\n",
    "    'B': ['C', 'D'],\n",
    "    'C': ['E', 'F'],\n",
    "    'D': ['E', 'F'],\n",
    "    'E': ['F', 'G', 'J'],\n",
    "    'F': ['B', 'G', 'H', 'J'],\n",
    "    'G': [],\n",
    "    'H': ['I'],\n",
    "    'I': [],\n",
    "    'J': ['I']\n",
    "}\n",
    "\n",
    "# DFS Execution\n",
    "visited = set()  # Set to track visited nodes\n",
    "start_finish = {node: {\"start\": 0, \"finish\": 0} for node in graph}  # Dictionary to store start/finish times\n",
    "\n",
    "# Time counter stored in a list to allow modification inside function\n",
    "time = [1]  \n",
    "dfs(graph, 'A', visited, start_finish, time)  # Run DFS starting from 'A'\n",
    "\n",
    "# BFS Execution\n",
    "bfs_order = bfs(graph, 'A')  # Run BFS starting from 'A'\n",
    "\n",
    "# Output Results\n",
    "print(\"DFS Start/Finish Times:\")\n",
    "for node, times in start_finish.items():\n",
    "    print(f\"{node}: Start={times['start']}, Finish={times['finish']}\")\n",
    "\n",
    "print(\"\\nBFS Order:\", bfs_order)  # Print BFS order\n"
   ]
  }
 ],
 "metadata": {
  "kernelspec": {
   "display_name": "Python 3",
   "language": "python",
   "name": "python3"
  },
  "language_info": {
   "codemirror_mode": {
    "name": "ipython",
    "version": 3
   },
   "file_extension": ".py",
   "mimetype": "text/x-python",
   "name": "python",
   "nbconvert_exporter": "python",
   "pygments_lexer": "ipython3",
   "version": "3.12.5"
  }
 },
 "nbformat": 4,
 "nbformat_minor": 2
}
