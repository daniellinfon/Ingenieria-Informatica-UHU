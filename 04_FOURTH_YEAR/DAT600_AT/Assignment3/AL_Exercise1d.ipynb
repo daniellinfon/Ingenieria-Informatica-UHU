{
 "cells": [
  {
   "cell_type": "markdown",
   "metadata": {},
   "source": [
    "**DAG Algorithm**"
   ]
  },
  {
   "cell_type": "code",
   "execution_count": 1,
   "metadata": {},
   "outputs": [],
   "source": [
    "from collections import defaultdict, deque"
   ]
  },
  {
   "cell_type": "markdown",
   "metadata": {},
   "source": [
    "Graph Class"
   ]
  },
  {
   "cell_type": "code",
   "execution_count": 11,
   "metadata": {},
   "outputs": [],
   "source": [
    "class Graph:\n",
    "    def __init__(self, vertices):\n",
    "        self.graph = defaultdict(list)\n",
    "        self.V = vertices\n",
    "\n",
    "    def add_edge(self, u, v):\n",
    "        self.graph[u].append(v)\n",
    "\n",
    "    def detect_and_remove_cycles(self):\n",
    "        def find_cycle():\n",
    "            visited = set()\n",
    "            rec_stack = set()\n",
    "            back_edges = []\n",
    "\n",
    "            def dfs(node, parent):\n",
    "                visited.add(node)\n",
    "                rec_stack.add(node)\n",
    "                for neighbor in self.graph[node]:\n",
    "                    if neighbor not in visited:\n",
    "                        if dfs(neighbor, node):\n",
    "                            return True\n",
    "                    elif neighbor in rec_stack:\n",
    "                        back_edges.append((node, neighbor))\n",
    "                rec_stack.remove(node)\n",
    "                return False\n",
    "\n",
    "            for node in list(self.graph.keys()):\n",
    "                if node not in visited:\n",
    "                    dfs(node, None)\n",
    "            return back_edges\n",
    "\n",
    "        while True:\n",
    "            back_edges = find_cycle()\n",
    "            if not back_edges:\n",
    "                break  # No more cycles, stop\n",
    "            edge_to_remove = back_edges[0]  # Remove the first back edge found\n",
    "            self.graph[edge_to_remove[0]].remove(edge_to_remove[1])\n",
    "            print(f\"Removed edge: {edge_to_remove}\")\n",
    "\n",
    "        print(\"DAG after cycle removal:\")\n",
    "        for node in self.graph:\n",
    "            print(f\"{node} -> {self.graph[node]}\")"
   ]
  },
  {
   "cell_type": "markdown",
   "metadata": {},
   "source": [
    "Graph Creation and Execution"
   ]
  },
  {
   "cell_type": "code",
   "execution_count": 12,
   "metadata": {},
   "outputs": [
    {
     "name": "stdout",
     "output_type": "stream",
     "text": [
      "Removed edge: ('F', 'B')\n",
      "Removed edge: ('I', 'C')\n",
      "Removed edge: ('C', 'A')\n",
      "DAG after cycle removal:\n",
      "A -> ['B']\n",
      "B -> ['C', 'D']\n",
      "C -> ['E', 'F']\n",
      "D -> ['E', 'F']\n",
      "E -> ['F', 'G', 'J']\n",
      "F -> ['G', 'H', 'J']\n",
      "H -> ['I']\n",
      "J -> ['I']\n",
      "I -> []\n",
      "G -> []\n"
     ]
    }
   ],
   "source": [
    "# Create graph from Figure 1 with extra edges I → C and C → A\n",
    "graph = Graph(10)  # 10 nodes\n",
    "\n",
    "edges = [\n",
    "    ('A', 'B'), ('B', 'C'), ('B', 'D'), ('C', 'E'), ('C', 'F'), ('D', 'E'),\n",
    "    ('D', 'F'), ('E', 'F'), ('E', 'G'), ('E', 'J'), ('F', 'B'), ('F', 'G'),\n",
    "    ('F', 'H'), ('F', 'J'), ('H', 'I'), ('J', 'I'), ('I', 'C'), ('C', 'A')  \n",
    "]\n",
    "\n",
    "for u, v in edges:\n",
    "    graph.add_edge(u, v)\n",
    "\n",
    "# Remove cycles\n",
    "graph.detect_and_remove_cycles()\n"
   ]
  }
 ],
 "metadata": {
  "kernelspec": {
   "display_name": "Python 3",
   "language": "python",
   "name": "python3"
  },
  "language_info": {
   "codemirror_mode": {
    "name": "ipython",
    "version": 3
   },
   "file_extension": ".py",
   "mimetype": "text/x-python",
   "name": "python",
   "nbconvert_exporter": "python",
   "pygments_lexer": "ipython3",
   "version": "3.12.5"
  }
 },
 "nbformat": 4,
 "nbformat_minor": 2
}
