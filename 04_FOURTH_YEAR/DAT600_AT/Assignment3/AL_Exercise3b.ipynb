{
 "cells": [
  {
   "cell_type": "markdown",
   "metadata": {},
   "source": [
    "**Finding Strongly Connected Components**"
   ]
  },
  {
   "cell_type": "code",
   "execution_count": 14,
   "metadata": {},
   "outputs": [],
   "source": [
    "from collections import defaultdict, deque"
   ]
  },
  {
   "cell_type": "markdown",
   "metadata": {},
   "source": [
    "Graph Class with SCC methods"
   ]
  },
  {
   "cell_type": "code",
   "execution_count": 15,
   "metadata": {},
   "outputs": [],
   "source": [
    "class Graph:\n",
    "    def __init__(self, vertices):\n",
    "        self.graph = defaultdict(list)\n",
    "        self.V = vertices\n",
    "\n",
    "    def add_edge(self, u, v):\n",
    "        \"\"\"Adds a directed edge from u to v.\"\"\"\n",
    "        self.graph[u].append(v)\n",
    "\n",
    "    def dfs(self, node, visited, stack):\n",
    "        \"\"\"Performs DFS and records finishing order in a stack.\"\"\"\n",
    "        visited.add(node)\n",
    "        for neighbor in self.graph[node]:\n",
    "            if neighbor not in visited:\n",
    "                self.dfs(neighbor, visited, stack)\n",
    "        stack.append(node)  # Push node to stack when finished\n",
    "\n",
    "    def transpose(self):\n",
    "        \"\"\"Returns the transposed graph (reversed edges).\"\"\"\n",
    "        transposed = Graph(self.V)\n",
    "        for node in self.graph:\n",
    "            for neighbor in self.graph[node]:\n",
    "                transposed.add_edge(neighbor, node)  # Reverse direction\n",
    "        return transposed\n",
    "\n",
    "    def dfs_scc(self, node, visited, scc):\n",
    "        \"\"\"Performs DFS on the transposed graph to collect SCC nodes.\"\"\"\n",
    "        visited.add(node)\n",
    "        scc.append(node)\n",
    "        for neighbor in self.graph[node]:\n",
    "            if neighbor not in visited:\n",
    "                self.dfs_scc(neighbor, visited, scc)\n",
    "\n",
    "    def find_sccs(self):\n",
    "        \"\"\"Finds and returns all strongly connected components.\"\"\"\n",
    "        stack = []\n",
    "        visited = set()\n",
    "\n",
    "        # Step 1: Perform DFS on original graph to determine finishing times\n",
    "        for node in self.graph:\n",
    "            if node not in visited:\n",
    "                self.dfs(node, visited, stack)\n",
    "\n",
    "        # Step 2: Transpose the graph\n",
    "        transposed = self.transpose()\n",
    "\n",
    "        # Step 3: Process nodes in decreasing order of finishing times\n",
    "        visited.clear()\n",
    "        sccs = []\n",
    "\n",
    "        while stack:\n",
    "            node = stack.pop()\n",
    "            if node not in visited:\n",
    "                scc = []\n",
    "                transposed.dfs_scc(node, visited, scc)\n",
    "                sccs.append(scc)\n",
    "\n",
    "        return sccs"
   ]
  },
  {
   "cell_type": "markdown",
   "metadata": {},
   "source": [
    "Graph Creation and Execution"
   ]
  },
  {
   "cell_type": "code",
   "execution_count": 17,
   "metadata": {},
   "outputs": [
    {
     "name": "stdout",
     "output_type": "stream",
     "text": [
      "Strongly Connected Components: [['A', 'B', 'D'], ['C'], ['E', 'F', 'G']]\n"
     ]
    }
   ],
   "source": [
    "# Create graph from Figure 3\n",
    "graph = Graph(7)  # 7 nodes\n",
    "\n",
    "edges = [\n",
    "    ('A', 'B'), ('B', 'A'), ('A', 'D'), ('D', 'B'), ('B', 'C'), ('D', 'C'),\n",
    "    ('C', 'E'), ('C', 'F'), ('F', 'E'), ('E', 'G'), ('G', 'F')   \n",
    "]\n",
    "\n",
    "for u, v in edges:\n",
    "    graph.add_edge(u, v)\n",
    "\n",
    "sccs = graph.find_sccs()\n",
    "print(\"Strongly Connected Components:\", sccs)"
   ]
  }
 ],
 "metadata": {
  "kernelspec": {
   "display_name": "Python 3",
   "language": "python",
   "name": "python3"
  },
  "language_info": {
   "codemirror_mode": {
    "name": "ipython",
    "version": 3
   },
   "file_extension": ".py",
   "mimetype": "text/x-python",
   "name": "python",
   "nbconvert_exporter": "python",
   "pygments_lexer": "ipython3",
   "version": "3.12.5"
  }
 },
 "nbformat": 4,
 "nbformat_minor": 2
}
