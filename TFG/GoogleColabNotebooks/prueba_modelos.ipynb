{
  "nbformat": 4,
  "nbformat_minor": 0,
  "metadata": {
    "colab": {
      "provenance": []
    },
    "kernelspec": {
      "name": "python3",
      "display_name": "Python 3"
    },
    "language_info": {
      "name": "python"
    }
  },
  "cells": [
    {
      "cell_type": "code",
      "source": [
        "from google.colab import drive\n",
        "drive.mount('/content/drive')"
      ],
      "metadata": {
        "colab": {
          "base_uri": "https://localhost:8080/"
        },
        "id": "yzvWMReL2G7j",
        "outputId": "a233e073-d324-4f97-889f-5befb1b589aa"
      },
      "execution_count": null,
      "outputs": [
        {
          "output_type": "stream",
          "name": "stdout",
          "text": [
            "Mounted at /content/drive\n"
          ]
        }
      ]
    },
    {
      "cell_type": "code",
      "source": [
        "!pip install -q transformers scikit-learn datasets evaluate"
      ],
      "metadata": {
        "colab": {
          "base_uri": "https://localhost:8080/"
        },
        "id": "c5_5SEmZwfnd",
        "outputId": "2cb22c4b-8a9c-4dc2-c8ad-544c1c560aae"
      },
      "execution_count": null,
      "outputs": [
        {
          "output_type": "stream",
          "name": "stdout",
          "text": [
            "\u001b[?25l   \u001b[90m━━━━━━━━━━━━━━━━━━━━━━━━━━━━━━━━━━━━━━━━\u001b[0m \u001b[32m0.0/84.0 kB\u001b[0m \u001b[31m?\u001b[0m eta \u001b[36m-:--:--\u001b[0m\r\u001b[2K   \u001b[90m━━━━━━━━━━━━━━━━━━━━━━━━━━━━━━━━━━━━━━━━\u001b[0m \u001b[32m84.0/84.0 kB\u001b[0m \u001b[31m4.0 MB/s\u001b[0m eta \u001b[36m0:00:00\u001b[0m\n",
            "\u001b[?25h"
          ]
        }
      ]
    },
    {
      "cell_type": "code",
      "source": [
        "import pandas as pd\n",
        "import numpy as np\n",
        "import json\n",
        "import re\n",
        "\n",
        "# 🔢 Preprocesamiento y métricas\n",
        "from sklearn.preprocessing import LabelEncoder\n",
        "import evaluate\n",
        "\n",
        "# 📚 Carga de datasets\n",
        "import pandas as pd\n",
        "from datasets import Dataset, DatasetDict, load_dataset\n",
        "\n",
        "\n",
        "# Modelos y entrenamiento con Hugging Face\n",
        "from transformers import (\n",
        "    T5ForConditionalGeneration,\n",
        "    T5TokenizerFast,\n",
        "    T5Config,\n",
        "    Trainer,\n",
        "    TrainingArguments,\n",
        "    DataCollatorForSeq2Seq,\n",
        "    EarlyStoppingCallback,\n",
        ")\n",
        "\n",
        "# 🔥 PyTorch\n",
        "import torch\n",
        "from torch.utils.data import DataLoader"
      ],
      "metadata": {
        "id": "zRbZ55rV-LeE"
      },
      "execution_count": null,
      "outputs": []
    },
    {
      "cell_type": "markdown",
      "source": [
        "## BERT/RoBERTa"
      ],
      "metadata": {
        "id": "2DiOyQg0Uv49"
      }
    },
    {
      "cell_type": "code",
      "source": [
        "from transformers import AutoModelForSequenceClassification, AutoTokenizer\n",
        "import torch\n",
        "\n",
        "# Cargar el modelo y el tokenizador desde el directorio guardado\n",
        "model_path = \"/content/drive/MyDrive/TFG/models/finetuned_bert-base-uncased\"\n",
        "model_path = \"/content/drive/MyDrive/TFG/models/finetuned_roberta-base\"\n",
        "modelo = AutoModelForSequenceClassification.from_pretrained(model_path)\n",
        "tokenizer = AutoTokenizer.from_pretrained(model_path)\n",
        "\n",
        "# Definir frases de prueba\n",
        "frases_prueba = [\n",
        "    \"Add this song to my playlist\",  # ADD\n",
        "    \"Could you remove this track?\",  # REMOVE\n",
        "    \"Show me my current playlist\",  # VIEW\n",
        "    \"Clear the entire playlist\",    # CLEAR\n",
        "    \"Add this song to my playlist\",  # ADD\n",
        "    \"Remove this track from my list\",  # REMOVE\n",
        "    \"Show me my current playlist\",  # VIEW\n",
        "    \"Clear my entire playlist\",  # CLEAR\n",
        "    \"Could you please delete all the songs?\",  # CLEAR\n",
        "    \"Can you add a song to my playlist?\",  # ADD\n",
        "    \"I'd like to see what songs I have added\",  # VIEW\n",
        "    \"Take this song out of my list\",  # REMOVE\n",
        "    \"Hey, can u clear my playlist\",     # CLEAR\n",
        "    \"can u delete the song Crazy\",   # REMOVE\n",
        "]\n",
        "\n",
        "# Tokenizar las frases de prueba\n",
        "inputs = tokenizer(frases_prueba, padding=True, truncation=True, return_tensors=\"pt\")\n",
        "\n",
        "# Pasar las frases al modelo para obtener predicciones\n",
        "modelo.eval()  # Poner el modelo en modo evaluación\n",
        "with torch.no_grad():\n",
        "    outputs = modelo(**inputs)\n",
        "\n",
        "# Convertir los logits a predicciones\n",
        "predicciones = torch.argmax(outputs.logits, dim=1).numpy()\n",
        "\n",
        "# Mapear los índices a las etiquetas\n",
        "etiquetas = [\"add\", \"clear\", \"remove\", \"view\"]\n",
        "\n",
        "# Mostrar las predicciones\n",
        "for frase, pred in zip(frases_prueba, predicciones):\n",
        "    print(f\"Frase: '{frase}' → Predicción: {etiquetas[pred]}\")\n"
      ],
      "metadata": {
        "colab": {
          "base_uri": "https://localhost:8080/"
        },
        "id": "iH4roY1dy27B",
        "outputId": "5ca3d924-87f3-4448-d23d-7203bb0785be"
      },
      "execution_count": null,
      "outputs": [
        {
          "output_type": "stream",
          "name": "stdout",
          "text": [
            "Frase: 'Add this song to my playlist' → Predicción: add\n",
            "Frase: 'Could you remove this track?' → Predicción: remove\n",
            "Frase: 'Show me my current playlist' → Predicción: view\n",
            "Frase: 'Clear the entire playlist' → Predicción: clear\n",
            "Frase: 'Add this song to my playlist' → Predicción: add\n",
            "Frase: 'Remove this track from my list' → Predicción: remove\n",
            "Frase: 'Show me my current playlist' → Predicción: view\n",
            "Frase: 'Clear my entire playlist' → Predicción: clear\n",
            "Frase: 'Could you please delete all the songs?' → Predicción: clear\n",
            "Frase: 'Can you add a song to my playlist?' → Predicción: add\n",
            "Frase: 'I'd like to see what songs I have added' → Predicción: view\n",
            "Frase: 'Take this song out of my list' → Predicción: remove\n",
            "Frase: 'Hey, can u clear my playlist' → Predicción: clear\n",
            "Frase: 'can u delete the song Crazy' → Predicción: remove\n"
          ]
        }
      ]
    },
    {
      "cell_type": "markdown",
      "source": [
        "## T5"
      ],
      "metadata": {
        "id": "i2YnWYF2U1FM"
      }
    },
    {
      "cell_type": "code",
      "source": [
        "# Cargar el modelo y el tokenizador\n",
        "model_path = \"/content/drive/MyDrive/TFG/models/finetuned_t5-small\"\n",
        "model = T5ForConditionalGeneration.from_pretrained(model_path)\n",
        "tokenizer = T5TokenizerFast.from_pretrained(model_path)\n",
        "\n",
        "# Lista de frases de prueba\n",
        "frases_prueba = [\n",
        "    \"Add this song to my playlist\",  # ADD\n",
        "    \"Could you remove this track?\",  # REMOVE\n",
        "    \"Show me my current playlist\",  # VIEW\n",
        "    \"Clear the entire playlist\",    # CLEAR\n",
        "    \"Remove this track from my list\",  # REMOVE\n",
        "    \"Show me my current playlist\",  # VIEW\n",
        "    \"Clear my entire playlist\",  # CLEAR\n",
        "    \"Could you please delete all the songs?\",  # CLEAR\n",
        "    \"Can you add a song to my playlist?\",  # ADD\n",
        "    \"I'd like to see what songs I have added\",  # VIEW\n",
        "    \"Take this song out of my list\",  # REMOVE\n",
        "    \"Hey, can u clear my playlist\",     # CLEAR\n",
        "    \"can u delete the song Crazy\",   # REMOVE\n",
        "]\n",
        "\n",
        "# Preprocesar y generar predicciones para cada frase\n",
        "for frase in frases_prueba:\n",
        "    # Preprocesar la entrada\n",
        "    input_ids = tokenizer(\"Clasifica: \" + frase, return_tensors=\"pt\").input_ids\n",
        "    attention_mask = tokenizer(\"Clasifica: \" + frase, return_tensors=\"pt\").attention_mask\n",
        "\n",
        "    # Generar la predicción\n",
        "    model.eval()\n",
        "    with torch.no_grad():\n",
        "        generated_ids = model.generate(input_ids=input_ids, attention_mask=attention_mask, max_length=10)\n",
        "\n",
        "    # Decodificar la predicción\n",
        "    decoded_pred = tokenizer.decode(generated_ids[0], skip_special_tokens=True)\n",
        "\n",
        "    # Imprimir la predicción\n",
        "    print(f\"Frase: {frase}\")\n",
        "    print(f\"Predicción: {decoded_pred}\")\n",
        "    print(\"-\" * 50)\n"
      ],
      "metadata": {
        "colab": {
          "base_uri": "https://localhost:8080/"
        },
        "outputId": "08dcf1c3-7e09-418b-99d4-4af6b1bdcda5",
        "id": "KAIj--RNzBJI"
      },
      "execution_count": null,
      "outputs": [
        {
          "output_type": "stream",
          "name": "stdout",
          "text": [
            "Frase: Add this song to my playlist\n",
            "Predicción: add\n",
            "--------------------------------------------------\n",
            "Frase: Could you remove this track?\n",
            "Predicción: remove\n",
            "--------------------------------------------------\n",
            "Frase: Show me my current playlist\n",
            "Predicción: view\n",
            "--------------------------------------------------\n",
            "Frase: Clear the entire playlist\n",
            "Predicción: clear\n",
            "--------------------------------------------------\n",
            "Frase: Remove this track from my list\n",
            "Predicción: clear\n",
            "--------------------------------------------------\n",
            "Frase: Show me my current playlist\n",
            "Predicción: view\n",
            "--------------------------------------------------\n",
            "Frase: Clear my entire playlist\n",
            "Predicción: clear\n",
            "--------------------------------------------------\n",
            "Frase: Could you please delete all the songs?\n",
            "Predicción: clear\n",
            "--------------------------------------------------\n",
            "Frase: Can you add a song to my playlist?\n",
            "Predicción: add\n",
            "--------------------------------------------------\n",
            "Frase: I'd like to see what songs I have added\n",
            "Predicción: view\n",
            "--------------------------------------------------\n",
            "Frase: Take this song out of my list\n",
            "Predicción: remove\n",
            "--------------------------------------------------\n",
            "Frase: Hey, can u clear my playlist\n",
            "Predicción: clear\n",
            "--------------------------------------------------\n",
            "Frase: can u delete the song Crazy\n",
            "Predicción: remove\n",
            "--------------------------------------------------\n"
          ]
        }
      ]
    }
  ]
}